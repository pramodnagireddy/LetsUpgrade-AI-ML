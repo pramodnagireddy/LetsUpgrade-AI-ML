{
 "cells": [
  {
   "cell_type": "code",
   "execution_count": 1,
   "metadata": {},
   "outputs": [
    {
     "name": "stdout",
     "output_type": "stream",
     "text": [
      "(4+6j)\n"
     ]
    }
   ],
   "source": [
    "# Write a program to subtract two complex numbers in Python\n",
    "a=1+2j\n",
    "b=3+4j\n",
    "c=a+b\n",
    "print(c)"
   ]
  },
  {
   "cell_type": "code",
   "execution_count": 2,
   "metadata": {},
   "outputs": [
    {
     "name": "stdout",
     "output_type": "stream",
     "text": [
      "2.0\n"
     ]
    }
   ],
   "source": [
    "# Write a program to find the fourth root of a number.\n",
    "d=8\n",
    "fourth_root=d*1/4\n",
    "print(fourth_root)"
   ]
  },
  {
   "cell_type": "code",
   "execution_count": 3,
   "metadata": {},
   "outputs": [
    {
     "name": "stdout",
     "output_type": "stream",
     "text": [
      "Value of num1 before swapping:  5\n",
      "Value of num2 before swapping:  10\n",
      "Value of num1 after swapping:  10\n",
      "Value of num2 after swapping:  5\n"
     ]
    }
   ],
   "source": [
    "# Write a program to swap two numbers in Python with the help of a temporary variable.\n",
    "num1=5\n",
    "num2=10\n",
    "print(\"Value of num1 before swapping: \", num1)\n",
    "print(\"Value of num2 before swapping: \", num2)\n",
    "temp = num1\n",
    "num1 = num2\n",
    "num2 = temp\n",
    "print(\"Value of num1 after swapping: \", num1)\n",
    "print(\"Value of num2 after swapping: \", num2)"
   ]
  },
  {
   "cell_type": "code",
   "execution_count": 4,
   "metadata": {},
   "outputs": [
    {
     "name": "stdout",
     "output_type": "stream",
     "text": [
      "Value of num1 before swapping:  15\n",
      "Value of num2 before swapping:  20\n",
      "Value of num1 after swapping:  20\n",
      "Value of num2 after swapping:  15\n"
     ]
    }
   ],
   "source": [
    "# Write a program to swap two numbers in Python without using a temporary variable.\n",
    "num3=15\n",
    "num4=20\n",
    "print(\"Value of num1 before swapping: \", num3)\n",
    "print(\"Value of num2 before swapping: \", num4)\n",
    "\n",
    "num3, num4 = num4, num3\n",
    "\n",
    "print(\"Value of num1 after swapping: \", num3)\n",
    "print(\"Value of num2 after swapping: \", num4)"
   ]
  },
  {
   "cell_type": "code",
   "execution_count": 5,
   "metadata": {},
   "outputs": [
    {
     "name": "stdout",
     "output_type": "stream",
     "text": [
      "Enter temperature in celsius: 98.5\n",
      "98.50 Celsius is: 209.30 Fahrenheit\n"
     ]
    }
   ],
   "source": [
    "# Write a program to convert Fahrenheit to kelvin and celsius both.\n",
    "celsius = float(input(\"Enter temperature in celsius: \"))\n",
    "fahrenheit = (celsius * 9/5) + 32\n",
    "print('%.2f Celsius is: %0.2f Fahrenheit' %(celsius, fahrenheit))"
   ]
  },
  {
   "cell_type": "code",
   "execution_count": 9,
   "metadata": {},
   "outputs": [
    {
     "name": "stdout",
     "output_type": "stream",
     "text": [
      "<class 'int'>\n",
      "<class 'float'>\n",
      "<class 'str'>\n",
      "<class 'complex'>\n"
     ]
    }
   ],
   "source": [
    "# Write a program to demonstrate all the available data types in Python. Hint: Use type() function.\n",
    "a=1\n",
    "b=1.25\n",
    "c=\"data\"\n",
    "d=2+5j\n",
    "print(type(a))\n",
    "print(type(b))\n",
    "print(type(c))\n",
    "print(type(d))"
   ]
  }
 ],
 "metadata": {
  "kernelspec": {
   "display_name": "Python 3",
   "language": "python",
   "name": "python3"
  },
  "language_info": {
   "codemirror_mode": {
    "name": "ipython",
    "version": 3
   },
   "file_extension": ".py",
   "mimetype": "text/x-python",
   "name": "python",
   "nbconvert_exporter": "python",
   "pygments_lexer": "ipython3",
   "version": "3.7.6"
  }
 },
 "nbformat": 4,
 "nbformat_minor": 4
}
